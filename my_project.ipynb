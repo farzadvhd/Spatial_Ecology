{
 "cells": [
  {
   "cell_type": "markdown",
   "id": "auburn-quilt",
   "metadata": {},
   "source": [
    "# Aim of the the project:\n",
    "\n",
    "1. Calculating landcover distribution in our wetlands based on 10 m landcover map of Sweden\n",
    "2. Open water and flooded vegetation extraction in one of our wetlands."
   ]
  },
  {
   "cell_type": "markdown",
   "id": "exotic-hammer",
   "metadata": {},
   "source": [
    "## Calculating landcover distribution\n",
    "we use two different layer:\n",
    "1. [National landcover map of Sweden in 10m resolution](https://www.swedishepa.se/State-of-the-environment/Maps-and-map-services/National-Land-Cover-Database/) ( left picture)\n",
    "2. [vector layer of Ramsar sites in Sweden](https://rsis.ramsar.org/ris-search/?f[0]=regionCountry_en_ss%3ASweden) ( right picture)\n",
    "\n",
    "<img src='picture1.png' width=\"400\">   <img src='picture2.png' width=\"400\">"
   ]
  },
  {
   "cell_type": "code",
   "execution_count": 100,
   "id": "taken-light",
   "metadata": {
    "collapsed": true,
    "jupyter": {
     "outputs_hidden": true
    },
    "tags": []
   },
   "outputs": [
    {
     "name": "stdout",
     "output_type": "stream",
     "text": [
      "Driver: GTiff/GeoTIFF\n",
      "Files: nmd2018bas_ogeneraliserad_v1_1.tif\n",
      "Size is 71273, 157992\n",
      "Coordinate System is:\n",
      "PROJCS[\"SWEREF99 TM\",\n",
      "    GEOGCS[\"SWEREF99\",\n",
      "        DATUM[\"SWEREF99\",\n",
      "            SPHEROID[\"GRS 1980\",6378137,298.257222101,\n",
      "                AUTHORITY[\"EPSG\",\"7019\"]],\n",
      "            TOWGS84[0,0,0,0,0,0,0],\n",
      "            AUTHORITY[\"EPSG\",\"6619\"]],\n",
      "        PRIMEM[\"Greenwich\",0,\n",
      "            AUTHORITY[\"EPSG\",\"8901\"]],\n",
      "        UNIT[\"degree\",0.0174532925199433,\n",
      "            AUTHORITY[\"EPSG\",\"9122\"]],\n",
      "        AUTHORITY[\"EPSG\",\"4619\"]],\n",
      "    PROJECTION[\"Transverse_Mercator\"],\n",
      "    PARAMETER[\"latitude_of_origin\",0],\n",
      "    PARAMETER[\"central_meridian\",15],\n",
      "    PARAMETER[\"scale_factor\",0.9996],\n",
      "    PARAMETER[\"false_easting\",500000],\n",
      "    PARAMETER[\"false_northing\",0],\n",
      "    UNIT[\"metre\",1,\n",
      "        AUTHORITY[\"EPSG\",\"9001\"]],\n",
      "    AUTHORITY[\"EPSG\",\"3006\"]]\n",
      "Origin = (208450.000000000000000,7671060.000000000000000)\n",
      "Pixel Size = (10.000000000000000,-10.000000000000000)\n",
      "Metadata:\n",
      "  AREA_OR_POINT=Area\n",
      "  TIFFTAG_RESOLUTIONUNIT=2 (pixels/inch)\n",
      "  TIFFTAG_SOFTWARE=E\n",
      "  TIFFTAG_XRESOLUTION=1\n",
      "  TIFFTAG_YRESOLUTION=1\n",
      "Image Structure Metadata:\n",
      "  COMPRESSION=PACKBITS\n",
      "  INTERLEAVE=BAND\n",
      "Corner Coordinates:\n",
      "Upper Left  (  208450.000, 7671060.000) (  7d41'51.00\"E, 68d59'38.16\"N)\n",
      "Lower Left  (  208450.000, 6091140.000) ( 10d27'14.37\"E, 54d52'55.53\"N)\n",
      "Upper Right (  921180.000, 7671060.000) ( 25d29'31.13\"E, 68d49'34.01\"N)\n",
      "Lower Right (  921180.000, 6091140.000) ( 21d33'17.33\"E, 54d47'23.89\"N)\n",
      "Center      (  564815.000, 6881100.000) ( 16d14'23.34\"E, 62d 3'23.60\"N)\n",
      "Band 1 Block=512x512 Type=Byte, ColorInterp=Palette\n",
      "  NoData Value=0\n",
      "  Color Table (RGB with 256 entries)\n",
      "    0: 0,0,0,0\n",
      "    1: 0,0,0,255\n",
      "    2: 194,158,215,255\n",
      "    3: 255,255,190,255\n",
      "    4: 0,0,0,255\n",
      "    5: 0,0,0,255\n",
      "    6: 0,0,0,255\n",
      "    7: 0,0,0,255\n",
      "    8: 0,0,0,255\n",
      "    9: 0,0,0,255\n",
      "   10: 0,0,0,255\n",
      "   11: 0,0,0,255\n",
      "   12: 0,0,0,255\n",
      "   13: 0,0,0,255\n",
      "   14: 0,0,0,255\n",
      "   15: 0,0,0,255\n",
      "   16: 0,0,0,255\n",
      "   17: 0,0,0,255\n",
      "   18: 0,0,0,255\n",
      "   19: 0,0,0,255\n",
      "   20: 0,0,0,255\n",
      "   21: 0,0,0,255\n",
      "   22: 0,0,0,255\n",
      "   23: 0,0,0,255\n",
      "   24: 0,0,0,255\n",
      "   25: 0,0,0,255\n",
      "   26: 0,0,0,255\n",
      "   27: 0,0,0,255\n",
      "   28: 0,0,0,255\n",
      "   29: 0,0,0,255\n",
      "   30: 0,0,0,255\n",
      "   31: 0,0,0,255\n",
      "   32: 0,0,0,255\n",
      "   33: 0,0,0,255\n",
      "   34: 0,0,0,255\n",
      "   35: 0,0,0,255\n",
      "   36: 0,0,0,255\n",
      "   37: 0,0,0,255\n",
      "   38: 0,0,0,255\n",
      "   39: 0,0,0,255\n",
      "   40: 0,0,0,255\n",
      "   41: 225,225,225,255\n",
      "   42: 255,211,127,255\n",
      "   43: 0,0,0,255\n",
      "   44: 0,0,0,255\n",
      "   45: 0,0,0,255\n",
      "   46: 0,0,0,255\n",
      "   47: 0,0,0,255\n",
      "   48: 0,0,0,255\n",
      "   49: 0,0,0,255\n",
      "   50: 0,0,0,255\n",
      "   51: 90,20,20,255\n",
      "   52: 229,70,75,255\n",
      "   53: 25,25,25,255\n",
      "   54: 0,0,0,255\n",
      "   55: 0,0,0,255\n",
      "   56: 0,0,0,255\n",
      "   57: 0,0,0,255\n",
      "   58: 0,0,0,255\n",
      "   59: 0,0,0,255\n",
      "   60: 0,0,0,255\n",
      "   61: 102,153,205,255\n",
      "   62: 138,204,250,255\n",
      "   63: 0,0,0,255\n",
      "   64: 0,0,0,255\n",
      "   65: 0,0,0,255\n",
      "   66: 0,0,0,255\n",
      "   67: 0,0,0,255\n",
      "   68: 0,0,0,255\n",
      "   69: 0,0,0,255\n",
      "   70: 0,0,0,255\n",
      "   71: 0,0,0,255\n",
      "   72: 0,0,0,255\n",
      "   73: 0,0,0,255\n",
      "   74: 0,0,0,255\n",
      "   75: 0,0,0,255\n",
      "   76: 0,0,0,255\n",
      "   77: 0,0,0,255\n",
      "   78: 0,0,0,255\n",
      "   79: 0,0,0,255\n",
      "   80: 0,0,0,255\n",
      "   81: 0,0,0,255\n",
      "   82: 0,0,0,255\n",
      "   83: 0,0,0,255\n",
      "   84: 0,0,0,255\n",
      "   85: 0,0,0,255\n",
      "   86: 0,0,0,255\n",
      "   87: 0,0,0,255\n",
      "   88: 0,0,0,255\n",
      "   89: 0,0,0,255\n",
      "   90: 0,0,0,255\n",
      "   91: 0,0,0,255\n",
      "   92: 0,0,0,255\n",
      "   93: 0,0,0,255\n",
      "   94: 0,0,0,255\n",
      "   95: 0,0,0,255\n",
      "   96: 0,0,0,255\n",
      "   97: 0,0,0,255\n",
      "   98: 0,0,0,255\n",
      "   99: 0,0,0,255\n",
      "  100: 0,0,0,255\n",
      "  101: 0,0,0,255\n",
      "  102: 0,0,0,255\n",
      "  103: 0,0,0,255\n",
      "  104: 0,0,0,255\n",
      "  105: 0,0,0,255\n",
      "  106: 0,0,0,255\n",
      "  107: 0,0,0,255\n",
      "  108: 0,0,0,255\n",
      "  109: 0,0,0,255\n",
      "  110: 0,0,0,255\n",
      "  111: 110,140,5,255\n",
      "  112: 45,95,0,255\n",
      "  113: 78,112,0,255\n",
      "  114: 56,168,0,255\n",
      "  115: 76,230,0,255\n",
      "  116: 170,255,0,255\n",
      "  117: 151,230,0,255\n",
      "  118: 205,205,102,255\n",
      "  119: 0,0,0,255\n",
      "  120: 0,0,0,255\n",
      "  121: 89,140,85,255\n",
      "  122: 48,94,80,255\n",
      "  123: 35,115,90,255\n",
      "  124: 67,136,112,255\n",
      "  125: 137,205,155,255\n",
      "  126: 165,245,120,255\n",
      "  127: 171,205,120,255\n",
      "  128: 137,137,68,255\n",
      "  129: 0,0,0,255\n",
      "  130: 194,158,215,255\n",
      "  131: 255,255,190,255\n",
      "  132: 0,0,0,255\n",
      "  133: 0,0,0,255\n",
      "  134: 0,0,0,255\n",
      "  135: 0,0,0,255\n",
      "  136: 0,0,0,255\n",
      "  137: 0,0,0,255\n",
      "  138: 0,0,0,255\n",
      "  139: 0,0,0,255\n",
      "  140: 0,0,0,255\n",
      "  141: 0,0,0,255\n",
      "  142: 0,0,0,255\n",
      "  143: 0,0,0,255\n",
      "  144: 0,0,0,255\n",
      "  145: 0,0,0,255\n",
      "  146: 0,0,0,255\n",
      "  147: 0,0,0,255\n",
      "  148: 0,0,0,255\n",
      "  149: 0,0,0,255\n",
      "  150: 0,0,0,255\n",
      "  151: 0,0,0,255\n",
      "  152: 0,0,0,255\n",
      "  153: 0,0,0,255\n",
      "  154: 0,0,0,255\n",
      "  155: 0,0,0,255\n",
      "  156: 0,0,0,255\n",
      "  157: 0,0,0,255\n",
      "  158: 0,0,0,255\n",
      "  159: 0,0,0,255\n",
      "  160: 0,0,0,255\n",
      "  161: 0,0,0,255\n",
      "  162: 0,0,0,255\n",
      "  163: 0,0,0,255\n",
      "  164: 0,0,0,255\n",
      "  165: 0,0,0,255\n",
      "  166: 0,0,0,255\n",
      "  167: 0,0,0,255\n",
      "  168: 0,0,0,255\n",
      "  169: 225,225,225,255\n",
      "  170: 255,211,127,255\n",
      "  171: 0,0,0,255\n",
      "  172: 0,0,0,255\n",
      "  173: 0,0,0,255\n",
      "  174: 0,0,0,255\n",
      "  175: 0,0,0,255\n",
      "  176: 0,0,0,255\n",
      "  177: 0,0,0,255\n",
      "  178: 0,0,0,255\n",
      "  179: 90,20,20,255\n",
      "  180: 229,70,75,255\n",
      "  181: 25,25,25,255\n",
      "  182: 0,0,0,255\n",
      "  183: 0,0,0,255\n",
      "  184: 0,0,0,255\n",
      "  185: 0,0,0,255\n",
      "  186: 0,0,0,255\n",
      "  187: 0,0,0,255\n",
      "  188: 0,0,0,255\n",
      "  189: 102,153,205,255\n",
      "  190: 138,204,250,255\n",
      "  191: 0,0,0,255\n",
      "  192: 192,192,192,255\n",
      "  193: 193,193,193,255\n",
      "  194: 194,194,194,255\n",
      "  195: 195,195,195,255\n",
      "  196: 196,196,196,255\n",
      "  197: 197,197,197,255\n",
      "  198: 198,198,198,255\n",
      "  199: 199,199,199,255\n",
      "  200: 200,200,200,255\n",
      "  201: 201,201,201,255\n",
      "  202: 202,202,202,255\n",
      "  203: 203,203,203,255\n",
      "  204: 204,204,204,255\n",
      "  205: 205,205,205,255\n",
      "  206: 206,206,206,255\n",
      "  207: 207,207,207,255\n",
      "  208: 208,208,208,255\n",
      "  209: 209,209,209,255\n",
      "  210: 210,210,210,255\n",
      "  211: 211,211,211,255\n",
      "  212: 212,212,212,255\n",
      "  213: 213,213,213,255\n",
      "  214: 214,214,214,255\n",
      "  215: 215,215,215,255\n",
      "  216: 216,216,216,255\n",
      "  217: 217,217,217,255\n",
      "  218: 218,218,218,255\n",
      "  219: 219,219,219,255\n",
      "  220: 220,220,220,255\n",
      "  221: 221,221,221,255\n",
      "  222: 222,222,222,255\n",
      "  223: 223,223,223,255\n",
      "  224: 224,224,224,255\n",
      "  225: 225,225,225,255\n",
      "  226: 226,226,226,255\n",
      "  227: 227,227,227,255\n",
      "  228: 228,228,228,255\n",
      "  229: 229,229,229,255\n",
      "  230: 230,230,230,255\n",
      "  231: 231,231,231,255\n",
      "  232: 232,232,232,255\n",
      "  233: 233,233,233,255\n",
      "  234: 234,234,234,255\n",
      "  235: 235,235,235,255\n",
      "  236: 236,236,236,255\n",
      "  237: 237,237,237,255\n",
      "  238: 238,238,238,255\n",
      "  239: 239,239,239,255\n",
      "  240: 240,240,240,255\n",
      "  241: 241,241,241,255\n",
      "  242: 242,242,242,255\n",
      "  243: 243,243,243,255\n",
      "  244: 244,244,244,255\n",
      "  245: 245,245,245,255\n",
      "  246: 246,246,246,255\n",
      "  247: 247,247,247,255\n",
      "  248: 248,248,248,255\n",
      "  249: 249,249,249,255\n",
      "  250: 250,250,250,255\n",
      "  251: 251,251,251,255\n",
      "  252: 252,252,252,255\n",
      "  253: 253,253,253,255\n",
      "  254: 254,254,254,255\n",
      "  255: 255,255,255,255\n"
     ]
    }
   ],
   "source": [
    "%%bash\n",
    "gdalinfo nmd2018bas_ogeneraliserad_v1_1.tif | more"
   ]
  },
  {
   "cell_type": "markdown",
   "id": "separate-festival",
   "metadata": {},
   "source": [
    "As NoData Value is not assigned, we assign nodata value = 0"
   ]
  },
  {
   "cell_type": "code",
   "execution_count": 102,
   "id": "theoretical-genealogy",
   "metadata": {},
   "outputs": [],
   "source": [
    "%%bash\n",
    "gdal_edit.py -a_nodata 0 nmd2018bas_ogeneraliserad_v1_1.tif"
   ]
  },
  {
   "cell_type": "markdown",
   "id": "third-stress",
   "metadata": {},
   "source": [
    "we create the shapefile of each wetland by using ```$ split vector layer``` tool in QGIS to clip our landcover by this layers"
   ]
  },
  {
   "cell_type": "code",
   "execution_count": 104,
   "id": "obvious-assets",
   "metadata": {
    "collapsed": true,
    "jupyter": {
     "outputs_hidden": true
    },
    "tags": []
   },
   "outputs": [
    {
     "name": "stdout",
     "output_type": "stream",
     "text": [
      "rms/ramsarid_1113.gpkg\n",
      "Copying color table from nmd2018bas_ogeneraliserad_v1_1.tif to new file.\n",
      "Creating output file that is 2623P x 1832L.\n",
      "Processing nmd2018bas_ogeneraliserad_v1_1.tif [1/1] : 0...10...20...30...40...50...60...70...80...90...100 - done.\n",
      "rms/ramsarid_1114.gpkg\n",
      "Copying color table from nmd2018bas_ogeneraliserad_v1_1.tif to new file.\n",
      "Creating output file that is 2745P x 1850L.\n",
      "Processing nmd2018bas_ogeneraliserad_v1_1.tif [1/1] : 0...10...20...30...40...50...60...70...80...90...100 - done.\n",
      "rms/ramsarid_1115.gpkg\n",
      "Copying color table from nmd2018bas_ogeneraliserad_v1_1.tif to new file.\n",
      "Creating output file that is 4953P x 1980L.\n",
      "Processing nmd2018bas_ogeneraliserad_v1_1.tif [1/1] : 0...10...20...30...40...50...60...70...80...90...100 - done.\n",
      "rms/ramsarid_1116.gpkg\n",
      "Copying color table from nmd2018bas_ogeneraliserad_v1_1.tif to new file.\n",
      "Creating output file that is 2032P x 3435L.\n",
      "Processing nmd2018bas_ogeneraliserad_v1_1.tif [1/1] : 0...10...20...30...40...50...60...70...80...90...100 - done.\n",
      "rms/ramsarid_1117.gpkg\n",
      "Copying color table from nmd2018bas_ogeneraliserad_v1_1.tif to new file.\n",
      "Creating output file that is 694P x 1137L.\n",
      "Processing nmd2018bas_ogeneraliserad_v1_1.tif [1/1] : 0...10...20...30...40...50...60...70...80...90...100 - done.\n",
      "rms/ramsarid_1118.gpkg\n",
      "Copying color table from nmd2018bas_ogeneraliserad_v1_1.tif to new file.\n",
      "Creating output file that is 997P x 633L.\n",
      "Processing nmd2018bas_ogeneraliserad_v1_1.tif [1/1] : 0...10...20...30...40...50...60...70...80...90...100 - done.\n",
      "rms/ramsarid_1119.gpkg\n",
      "Copying color table from nmd2018bas_ogeneraliserad_v1_1.tif to new file.\n",
      "Creating output file that is 1370P x 1214L.\n",
      "Processing nmd2018bas_ogeneraliserad_v1_1.tif [1/1] : 0...10...20...30...40...50...60...70...80...90...100 - done.\n",
      "rms/ramsarid_1120.gpkg\n",
      "Copying color table from nmd2018bas_ogeneraliserad_v1_1.tif to new file.\n",
      "Creating output file that is 421P x 661L.\n",
      "Processing nmd2018bas_ogeneraliserad_v1_1.tif [1/1] : 0...10...20...30...40...50...60...70...80...90...100 - done.\n",
      "rms/ramsarid_1121.gpkg\n",
      "Copying color table from nmd2018bas_ogeneraliserad_v1_1.tif to new file.\n",
      "Creating output file that is 807P x 1246L.\n",
      "Processing nmd2018bas_ogeneraliserad_v1_1.tif [1/1] : 0...10...20...30...40...50...60...70...80...90...100 - done.\n",
      "rms/ramsarid_1122.gpkg\n",
      "Copying color table from nmd2018bas_ogeneraliserad_v1_1.tif to new file.\n",
      "Creating output file that is 636P x 1020L.\n",
      "Processing nmd2018bas_ogeneraliserad_v1_1.tif [1/1] : 0...10...20...30...40...50...60...70...80...90...100 - done.\n",
      "rms/ramsarid_1123.gpkg\n",
      "Copying color table from nmd2018bas_ogeneraliserad_v1_1.tif to new file.\n",
      "Creating output file that is 835P x 3896L.\n",
      "Processing nmd2018bas_ogeneraliserad_v1_1.tif [1/1] : 0...10...20...30...40...50...60...70...80...90...100 - done.\n",
      "rms/ramsarid_1124.gpkg\n",
      "Copying color table from nmd2018bas_ogeneraliserad_v1_1.tif to new file.\n",
      "Creating output file that is 497P x 421L.\n",
      "Processing nmd2018bas_ogeneraliserad_v1_1.tif [1/1] : 0...10...20...30...40...50...60...70...80...90...100 - done.\n",
      "rms/ramsarid_1125.gpkg\n",
      "Copying color table from nmd2018bas_ogeneraliserad_v1_1.tif to new file.\n",
      "Creating output file that is 1724P x 1163L.\n",
      "Processing nmd2018bas_ogeneraliserad_v1_1.tif [1/1] : 0...10...20...30...40...50...60...70...80...90...100 - done.\n",
      "rms/ramsarid_1126.gpkg\n",
      "Copying color table from nmd2018bas_ogeneraliserad_v1_1.tif to new file.\n",
      "Creating output file that is 1579P x 1571L.\n",
      "Processing nmd2018bas_ogeneraliserad_v1_1.tif [1/1] : 0...10...20...30...40...50...60...70...80...90...100 - done.\n",
      "rms/ramsarid_1127.gpkg\n",
      "Copying color table from nmd2018bas_ogeneraliserad_v1_1.tif to new file.\n",
      "Creating output file that is 725P x 371L.\n",
      "Processing nmd2018bas_ogeneraliserad_v1_1.tif [1/1] : 0...10...20...30...40...50...60...70...80...90...100 - done.\n",
      "rms/ramsarid_1128.gpkg\n",
      "Copying color table from nmd2018bas_ogeneraliserad_v1_1.tif to new file.\n",
      "Creating output file that is 1269P x 691L.\n",
      "Processing nmd2018bas_ogeneraliserad_v1_1.tif [1/1] : 0...10...20...30...40...50...60...70...80...90...100 - done.\n",
      "rms/ramsarid_1129.gpkg\n",
      "Copying color table from nmd2018bas_ogeneraliserad_v1_1.tif to new file.\n",
      "Creating output file that is 1074P x 1192L.\n",
      "Processing nmd2018bas_ogeneraliserad_v1_1.tif [1/1] : 0...10...20...30...40...50...60...70...80...90...100 - done.\n",
      "rms/ramsarid_1130.gpkg\n",
      "Copying color table from nmd2018bas_ogeneraliserad_v1_1.tif to new file.\n",
      "Creating output file that is 376P x 444L.\n",
      "Processing nmd2018bas_ogeneraliserad_v1_1.tif [1/1] : 0...10...20...30...40...50...60...70...80...90...100 - done.\n",
      "rms/ramsarid_1131.gpkg\n",
      "Copying color table from nmd2018bas_ogeneraliserad_v1_1.tif to new file.\n",
      "Creating output file that is 1803P x 2087L.\n",
      "Processing nmd2018bas_ogeneraliserad_v1_1.tif [1/1] : 0...10...20...30...40...50...60...70...80...90...100 - done.\n",
      "rms/ramsarid_1132.gpkg\n",
      "Copying color table from nmd2018bas_ogeneraliserad_v1_1.tif to new file.\n",
      "Creating output file that is 265P x 323L.\n",
      "Processing nmd2018bas_ogeneraliserad_v1_1.tif [1/1] : 0...10...20...30...40...50...60...70...80...90...100 - done.\n",
      "rms/ramsarid_1133.gpkg\n",
      "Copying color table from nmd2018bas_ogeneraliserad_v1_1.tif to new file.\n",
      "Creating output file that is 857P x 1257L.\n",
      "Processing nmd2018bas_ogeneraliserad_v1_1.tif [1/1] : 0...10...20...30...40...50...60...70...80...90...100 - done.\n",
      "rms/ramsarid_14.gpkg\n",
      "Copying color table from nmd2018bas_ogeneraliserad_v1_1.tif to new file.\n",
      "Creating output file that is 1215P x 2045L.\n",
      "Processing nmd2018bas_ogeneraliserad_v1_1.tif [1/1] : 0...10...20...30...40...50...60...70...80...90...100 - done.\n",
      "rms/ramsarid_15.gpkg\n",
      "Copying color table from nmd2018bas_ogeneraliserad_v1_1.tif to new file.\n",
      "Creating output file that is 1538P x 1692L.\n",
      "Processing nmd2018bas_ogeneraliserad_v1_1.tif [1/1] : 0...10...20...30...40...50...60...70...80...90...100 - done.\n",
      "rms/ramsarid_16.gpkg\n",
      "Copying color table from nmd2018bas_ogeneraliserad_v1_1.tif to new file.\n",
      "Creating output file that is 1224P x 2753L.\n",
      "Processing nmd2018bas_ogeneraliserad_v1_1.tif [1/1] : 0...10...20...30...40...50...60...70...80...90...100 - done.\n",
      "rms/ramsarid_17.gpkg\n",
      "Copying color table from nmd2018bas_ogeneraliserad_v1_1.tif to new file.\n",
      "Creating output file that is 567P x 663L.\n",
      "Processing nmd2018bas_ogeneraliserad_v1_1.tif [1/1] : 0...10...20...30...40...50...60...70...80...90...100 - done.\n",
      "rms/ramsarid_18.gpkg\n",
      "Copying color table from nmd2018bas_ogeneraliserad_v1_1.tif to new file.\n",
      "Creating output file that is 2657P x 8279L.\n",
      "Processing nmd2018bas_ogeneraliserad_v1_1.tif [1/1] : 0...10...20...30...40...50...60...70...80...90...100 - done.\n",
      "rms/ramsarid_19.gpkg\n",
      "Copying color table from nmd2018bas_ogeneraliserad_v1_1.tif to new file.\n",
      "Creating output file that is 299P x 262L.\n",
      "Processing nmd2018bas_ogeneraliserad_v1_1.tif [1/1] : 0...10...20...30...40...50...60...70...80...90...100 - done.\n",
      "rms/ramsarid_20.gpkg\n",
      "Copying color table from nmd2018bas_ogeneraliserad_v1_1.tif to new file.\n",
      "Creating output file that is 1340P x 1415L.\n",
      "Processing nmd2018bas_ogeneraliserad_v1_1.tif [1/1] : 0...10...20...30...40...50...60...70...80...90...100 - done.\n",
      "rms/ramsarid_2167.gpkg\n",
      "Copying color table from nmd2018bas_ogeneraliserad_v1_1.tif to new file.\n",
      "Creating output file that is 4054P x 4742L.\n",
      "Processing nmd2018bas_ogeneraliserad_v1_1.tif [1/1] : 0...10...20...30...40...50...60...70...80...90...100 - done.\n",
      "rms/ramsarid_2168.gpkg\n",
      "Copying color table from nmd2018bas_ogeneraliserad_v1_1.tif to new file.\n",
      "Creating output file that is 544P x 1222L.\n",
      "Processing nmd2018bas_ogeneraliserad_v1_1.tif [1/1] : 0...10...20...30...40...50...60...70...80...90...100 - done.\n",
      "rms/ramsarid_2169.gpkg\n",
      "Copying color table from nmd2018bas_ogeneraliserad_v1_1.tif to new file.\n",
      "Creating output file that is 359P x 1003L.\n",
      "Processing nmd2018bas_ogeneraliserad_v1_1.tif [1/1] : 0...10...20...30...40...50...60...70...80...90...100 - done.\n",
      "rms/ramsarid_2170.gpkg\n",
      "Copying color table from nmd2018bas_ogeneraliserad_v1_1.tif to new file.\n",
      "Creating output file that is 347P x 776L.\n",
      "Processing nmd2018bas_ogeneraliserad_v1_1.tif [1/1] : 0...10...20...30...40...50...60...70...80...90...100 - done.\n",
      "rms/ramsarid_2171.gpkg\n",
      "Copying color table from nmd2018bas_ogeneraliserad_v1_1.tif to new file.\n",
      "Creating output file that is 546P x 1439L.\n",
      "Processing nmd2018bas_ogeneraliserad_v1_1.tif [1/1] : 0...10...20...30...40...50...60...70...80...90...100 - done.\n",
      "rms/ramsarid_2172.gpkg\n",
      "Copying color table from nmd2018bas_ogeneraliserad_v1_1.tif to new file.\n",
      "Creating output file that is 364P x 521L.\n",
      "Processing nmd2018bas_ogeneraliserad_v1_1.tif [1/1] : 0...10...20...30...40...50...60...70...80...90...100 - done.\n",
      "rms/ramsarid_2173.gpkg\n",
      "Copying color table from nmd2018bas_ogeneraliserad_v1_1.tif to new file.\n",
      "Creating output file that is 3518P x 1881L.\n",
      "Processing nmd2018bas_ogeneraliserad_v1_1.tif [1/1] : 0...10...20...30...40...50...60...70...80...90...100 - done.\n",
      "rms/ramsarid_2174.gpkg\n",
      "Copying color table from nmd2018bas_ogeneraliserad_v1_1.tif to new file.\n",
      "Creating output file that is 253P x 289L.\n",
      "Processing nmd2018bas_ogeneraliserad_v1_1.tif [1/1] : 0...10...20...30...40...50...60...70...80...90...100 - done.\n",
      "rms/ramsarid_2175.gpkg\n",
      "Copying color table from nmd2018bas_ogeneraliserad_v1_1.tif to new file.\n",
      "Creating output file that is 1224P x 2245L.\n",
      "Processing nmd2018bas_ogeneraliserad_v1_1.tif [1/1] : 0...10...20...30...40...50...60...70...80...90...100 - done.\n",
      "rms/ramsarid_2176.gpkg\n",
      "Copying color table from nmd2018bas_ogeneraliserad_v1_1.tif to new file.\n",
      "Creating output file that is 1229P x 890L.\n",
      "Processing nmd2018bas_ogeneraliserad_v1_1.tif [1/1] : 0...10...20...30...40...50...60...70...80...90...100 - done.\n",
      "rms/ramsarid_2177.gpkg\n",
      "Copying color table from nmd2018bas_ogeneraliserad_v1_1.tif to new file.\n",
      "Creating output file that is 739P x 1017L.\n",
      "Processing nmd2018bas_ogeneraliserad_v1_1.tif [1/1] : 0...10...20...30...40...50...60...70...80...90...100 - done.\n",
      "rms/ramsarid_2178.gpkg\n",
      "Copying color table from nmd2018bas_ogeneraliserad_v1_1.tif to new file.\n",
      "Creating output file that is 1124P x 1273L.\n",
      "Processing nmd2018bas_ogeneraliserad_v1_1.tif [1/1] : 0...10...20...30...40...50...60...70...80...90...100 - done.\n",
      "rms/ramsarid_2179.gpkg\n",
      "Copying color table from nmd2018bas_ogeneraliserad_v1_1.tif to new file.\n",
      "Creating output file that is 366P x 262L.\n",
      "Processing nmd2018bas_ogeneraliserad_v1_1.tif [1/1] : 0...10...20...30...40...50...60...70...80...90...100 - done.\n",
      "rms/ramsarid_2180.gpkg\n",
      "Copying color table from nmd2018bas_ogeneraliserad_v1_1.tif to new file.\n",
      "Creating output file that is 1658P x 795L.\n",
      "Processing nmd2018bas_ogeneraliserad_v1_1.tif [1/1] : 0...10...20...30...40...50...60...70...80...90...100 - done.\n",
      "rms/ramsarid_21.gpkg\n",
      "Copying color table from nmd2018bas_ogeneraliserad_v1_1.tif to new file.\n",
      "Creating output file that is 3979P x 9467L.\n",
      "Processing nmd2018bas_ogeneraliserad_v1_1.tif [1/1] : 0...10...20...30...40...50...60...70...80...90...100 - done.\n",
      "rms/ramsarid_2260.gpkg\n",
      "Copying color table from nmd2018bas_ogeneraliserad_v1_1.tif to new file.\n",
      "Creating output file that is 838P x 618L.\n",
      "Processing nmd2018bas_ogeneraliserad_v1_1.tif [1/1] : 0...10...20...30...40...50...60...70...80...90...100 - done.\n",
      "rms/ramsarid_2265.gpkg\n",
      "Copying color table from nmd2018bas_ogeneraliserad_v1_1.tif to new file.\n",
      "Creating output file that is 236P x 441L.\n",
      "Processing nmd2018bas_ogeneraliserad_v1_1.tif [1/1] : 0...10...20...30...40...50...60...70...80...90...100 - done.\n",
      "rms/ramsarid_22.gpkg\n",
      "Copying color table from nmd2018bas_ogeneraliserad_v1_1.tif to new file.\n",
      "Creating output file that is 1237P x 1576L.\n",
      "Processing nmd2018bas_ogeneraliserad_v1_1.tif [1/1] : 0...10...20...30...40...50...60...70...80...90...100 - done.\n",
      "rms/ramsarid_23.gpkg\n",
      "Copying color table from nmd2018bas_ogeneraliserad_v1_1.tif to new file.\n",
      "Creating output file that is 1250P x 763L.\n",
      "Processing nmd2018bas_ogeneraliserad_v1_1.tif [1/1] : 0...10...20...30...40...50...60...70...80...90...100 - done.\n",
      "rms/ramsarid_24.gpkg\n",
      "Copying color table from nmd2018bas_ogeneraliserad_v1_1.tif to new file.\n",
      "Creating output file that is 585P x 386L.\n",
      "Processing nmd2018bas_ogeneraliserad_v1_1.tif [1/1] : 0...10...20...30...40...50...60...70...80...90...100 - done.\n",
      "rms/ramsarid_25.gpkg\n",
      "Copying color table from nmd2018bas_ogeneraliserad_v1_1.tif to new file.\n",
      "Creating output file that is 310P x 437L.\n",
      "Processing nmd2018bas_ogeneraliserad_v1_1.tif [1/1] : 0...10...20...30...40...50...60...70...80...90...100 - done.\n",
      "rms/ramsarid_26.gpkg\n",
      "Copying color table from nmd2018bas_ogeneraliserad_v1_1.tif to new file.\n",
      "Creating output file that is 1753P x 1250L.\n",
      "Processing nmd2018bas_ogeneraliserad_v1_1.tif [1/1] : 0...10...20...30...40...50...60...70...80...90...100 - done.\n",
      "rms/ramsarid_27.gpkg\n",
      "Copying color table from nmd2018bas_ogeneraliserad_v1_1.tif to new file.\n",
      "Creating output file that is 355P x 376L.\n",
      "Processing nmd2018bas_ogeneraliserad_v1_1.tif [1/1] : 0...10...20...30...40...50...60...70...80...90...100 - done.\n",
      "rms/ramsarid_28.gpkg\n",
      "Copying color table from nmd2018bas_ogeneraliserad_v1_1.tif to new file.\n",
      "Creating output file that is 1136P x 1172L.\n",
      "Processing nmd2018bas_ogeneraliserad_v1_1.tif [1/1] : 0...10...20...30...40...50...60...70...80...90...100 - done.\n",
      "rms/ramsarid_29.gpkg\n",
      "Copying color table from nmd2018bas_ogeneraliserad_v1_1.tif to new file.\n",
      "Creating output file that is 1933P x 4352L.\n",
      "Processing nmd2018bas_ogeneraliserad_v1_1.tif [1/1] : 0...10...20...30...40...50...60...70...80...90...100 - done.\n",
      "rms/ramsarid_30.gpkg\n",
      "Copying color table from nmd2018bas_ogeneraliserad_v1_1.tif to new file.\n",
      "Creating output file that is 3144P x 2662L.\n",
      "Processing nmd2018bas_ogeneraliserad_v1_1.tif [1/1] : 0...10...20...30...40...50...60...70...80...90...100 - done.\n",
      "rms/ramsarid_31.gpkg\n",
      "Copying color table from nmd2018bas_ogeneraliserad_v1_1.tif to new file.\n",
      "Creating output file that is 1719P x 712L.\n",
      "Processing nmd2018bas_ogeneraliserad_v1_1.tif [1/1] : 0...10...20...30...40...50...60...70...80...90...100 - done.\n",
      "rms/ramsarid_32.gpkg\n",
      "Copying color table from nmd2018bas_ogeneraliserad_v1_1.tif to new file.\n",
      "Creating output file that is 7512P x 6180L.\n",
      "Processing nmd2018bas_ogeneraliserad_v1_1.tif [1/1] : 0...10...20...30...40...50...60...70...80...90...100 - done.\n",
      "rms/ramsarid_33.gpkg\n",
      "Copying color table from nmd2018bas_ogeneraliserad_v1_1.tif to new file.\n",
      "Creating output file that is 2602P x 2191L.\n",
      "Processing nmd2018bas_ogeneraliserad_v1_1.tif [1/1] : 0...10...20...30...40...50...60...70...80...90...100 - done.\n",
      "rms/ramsarid_429.gpkg\n",
      "Copying color table from nmd2018bas_ogeneraliserad_v1_1.tif to new file.\n",
      "Creating output file that is 1831P x 2819L.\n",
      "Processing nmd2018bas_ogeneraliserad_v1_1.tif [1/1] : 0...10...20...30...40...50...60...70...80...90...100 - done.\n",
      "rms/ramsarid_430.gpkg\n",
      "Copying color table from nmd2018bas_ogeneraliserad_v1_1.tif to new file.\n",
      "Creating output file that is 647P x 1604L.\n",
      "Processing nmd2018bas_ogeneraliserad_v1_1.tif [1/1] : 0...10...20...30...40...50...60...70...80...90...100 - done.\n",
      "rms/ramsarid_431.gpkg\n",
      "Copying color table from nmd2018bas_ogeneraliserad_v1_1.tif to new file.\n",
      "Creating output file that is 1962P x 1036L.\n",
      "Processing nmd2018bas_ogeneraliserad_v1_1.tif [1/1] : 0...10...20...30...40...50...60...70...80...90...100 - done.\n",
      "rms/ramsarid_432.gpkg\n",
      "Copying color table from nmd2018bas_ogeneraliserad_v1_1.tif to new file.\n",
      "Creating output file that is 1120P x 1022L.\n",
      "Processing nmd2018bas_ogeneraliserad_v1_1.tif [1/1] : 0...10...20...30...40...50...60...70...80...90...100 - done.\n",
      "rms/ramsarid_433.gpkg\n",
      "Copying color table from nmd2018bas_ogeneraliserad_v1_1.tif to new file.\n",
      "Creating output file that is 539P x 694L.\n",
      "Processing nmd2018bas_ogeneraliserad_v1_1.tif [1/1] : 0...10...20...30...40...50...60...70...80...90...100 - done.\n",
      "rms/ramsarid_434.gpkg\n",
      "Copying color table from nmd2018bas_ogeneraliserad_v1_1.tif to new file.\n",
      "Creating output file that is 1248P x 1514L.\n",
      "Processing nmd2018bas_ogeneraliserad_v1_1.tif [1/1] : 0...10...20...30...40...50...60...70...80...90...100 - done.\n",
      "rms/ramsarid_435.gpkg\n",
      "Copying color table from nmd2018bas_ogeneraliserad_v1_1.tif to new file.\n",
      "Creating output file that is 2131P x 1433L.\n",
      "Processing nmd2018bas_ogeneraliserad_v1_1.tif [1/1] : 0...10...20...30...40...50...60...70...80...90...100 - done.\n",
      "rms/ramsarid_436.gpkg\n",
      "Copying color table from nmd2018bas_ogeneraliserad_v1_1.tif to new file.\n",
      "Creating output file that is 937P x 1652L.\n",
      "Processing nmd2018bas_ogeneraliserad_v1_1.tif [1/1] : 0...10...20...30...40...50...60...70...80...90...100 - done.\n",
      "rms/ramsarid_437.gpkg\n",
      "Copying color table from nmd2018bas_ogeneraliserad_v1_1.tif to new file.\n",
      "Creating output file that is 1353P x 2170L.\n",
      "Processing nmd2018bas_ogeneraliserad_v1_1.tif [1/1] : 0...10...20...30...40...50...60...70...80...90...100 - done.\n",
      "rms/ramsarid_438.gpkg\n",
      "Copying color table from nmd2018bas_ogeneraliserad_v1_1.tif to new file.\n",
      "Creating output file that is 687P x 666L.\n",
      "Processing nmd2018bas_ogeneraliserad_v1_1.tif [1/1] : 0...10...20...30...40...50...60...70...80...90...100 - done.\n"
     ]
    }
   ],
   "source": [
    "%%bash\n",
    "for file in rms/*.gpkg; do echo $file; filename=$(basename $file .gpkg); gdalwarp -overwrite -srcnodata 0 -dstnodata 0 -crop_to_cutline -cutline $file nmd2018bas_ogeneraliserad_v1_1.tif clipped/${filename}.tif; done"
   ]
  },
  {
   "cell_type": "markdown",
   "id": "important-giant",
   "metadata": {},
   "source": [
    "Now that we have our clipped land cover we can calculate the histogram (in percentage)"
   ]
  },
  {
   "cell_type": "code",
   "execution_count": 6,
   "id": "transsexual-romania",
   "metadata": {
    "tags": []
   },
   "outputs": [
    {
     "name": "stdout",
     "output_type": "stream",
     "text": [
      "clipped/ramsarid_436_clip.tif\n"
     ]
    }
   ],
   "source": [
    "%%bash\n",
    "for file in clipped/*.tif; do echo $file; filename=$(basename $file .tif); pkstat -hist -rel -src_min 2 -src_max 128 -i $file > hist/${filename}.txt; done"
   ]
  },
  {
   "cell_type": "markdown",
   "id": "incredible-astronomy",
   "metadata": {},
   "source": [
    "Now we have the text file of our histograms we can extract our desired classes for each of our 67 wetlands\n",
    "- we have 25 classess in total\n",
    "- 7 of the classess are our main interest\n",
    "\n",
    "<img src='picture3.png' width=\"500\"> "
   ]
  },
  {
   "cell_type": "markdown",
   "id": "hungry-footage",
   "metadata": {},
   "source": [
    "Extract all 25 classes"
   ]
  },
  {
   "cell_type": "code",
   "execution_count": 7,
   "id": "southwest-saturn",
   "metadata": {
    "tags": []
   },
   "outputs": [
    {
     "name": "stdout",
     "output_type": "stream",
     "text": [
      "hist/ramsarid_436_clip.txt\n"
     ]
    }
   ],
   "source": [
    "%%bash\n",
    "#printf \"%s %.3f\\n\", $1, $2\n",
    "for file in hist/*.txt; do echo $file; filename=$(basename $file .txt);\n",
    "awk '{ if($1==111||$1==112||$1==113||$1==114||$1==115||$1==116||$1==117||$1==118||$1==121||$1==122||$1==123||$1==124||$1==125||$1==126||$1==127||$1==128||$1==2||$1==3||$1==41||$1==42||$1==51||$1==52||$1==53||$1==61||$1==62) print}' $file > class_25/${filename}.txt;done"
   ]
  },
  {
   "cell_type": "markdown",
   "id": "presidential-height",
   "metadata": {},
   "source": [
    "Extract 7 main classess of our interest"
   ]
  },
  {
   "cell_type": "code",
   "execution_count": 8,
   "id": "acting-input",
   "metadata": {
    "tags": []
   },
   "outputs": [
    {
     "name": "stdout",
     "output_type": "stream",
     "text": [
      "hist/ramsarid_436_clip.txt\n"
     ]
    }
   ],
   "source": [
    "%%bash\n",
    "for file in hist/*.txt; do echo $file; filename=$(basename $file .txt);\n",
    "    awk '$1==111 || $1==112 || $1==113 || $1==114 ||$1==115 || $1==116 ||$1==117 || $1==118 {sum1+= $2} \n",
    "$1==121 || $1==122 || $1==123 || $1==124 ||$1==125 || $1==126 ||$1==127 || $1==128 {sum2+= $2} \n",
    "$1==2 {sum3+= $2} \n",
    "$1==3 {sum4+= $2} \n",
    "$1==41 || $1==42 {sum5+= $2} \n",
    "$1==51 || $1==52 || $1==53 {sum6+= $2} \n",
    "$1==61 || $1==62 {sum7+= $2} \n",
    "END{print (\"1.1 \"sum1); print (\"1.2 \"sum2); print(\"2 \"sum3); print(\"3 \"sum4); print(\"4 \"sum5); print(\"5 \"sum6); print(\"6 \"sum7)}' $file > class_7/${filename}.txt;done"
   ]
  },
  {
   "cell_type": "raw",
   "id": "biblical-broad",
   "metadata": {},
   "source": [
    "Now we want to add header to each of the text files "
   ]
  },
  {
   "cell_type": "code",
   "execution_count": 9,
   "id": "endangered-tuner",
   "metadata": {
    "tags": []
   },
   "outputs": [
    {
     "name": "stdout",
     "output_type": "stream",
     "text": [
      "class_7/ramsarid_436_clip.txt\n"
     ]
    }
   ],
   "source": [
    "%%bash\n",
    "for file in class_7/*.txt; do echo $file; filename=$(basename $file .txt);\n",
    "awk 'BEGIN{print \"Class Ratio\"}1' $file > head/${filename}.txt; done #The 1 is to indicate to print every line of the file."
   ]
  },
  {
   "cell_type": "code",
   "execution_count": 76,
   "id": "efficient-laundry",
   "metadata": {},
   "outputs": [
    {
     "name": "stdout",
     "output_type": "stream",
     "text": [
      "Collecting matplotlib\n",
      "  Downloading matplotlib-3.4.2-cp38-cp38-manylinux1_x86_64.whl (10.3 MB)\n",
      "\u001b[K     |████████████████████████████████| 10.3 MB 7.9 MB/s eta 0:00:01\n",
      "\u001b[?25hCollecting pillow>=6.2.0\n",
      "  Downloading Pillow-8.2.0-cp38-cp38-manylinux1_x86_64.whl (3.0 MB)\n",
      "\u001b[K     |████████████████████████████████| 3.0 MB 17.5 MB/s eta 0:00:01\n",
      "\u001b[?25hRequirement already satisfied: numpy>=1.16 in /home/user/miniconda3/lib/python3.8/site-packages (from matplotlib) (1.20.1)\n",
      "Collecting cycler>=0.10\n",
      "  Downloading cycler-0.10.0-py2.py3-none-any.whl (6.5 kB)\n",
      "Requirement already satisfied: python-dateutil>=2.7 in /home/user/miniconda3/lib/python3.8/site-packages (from matplotlib) (2.8.1)\n",
      "Collecting kiwisolver>=1.0.1\n",
      "  Downloading kiwisolver-1.3.1-cp38-cp38-manylinux1_x86_64.whl (1.2 MB)\n",
      "\u001b[K     |████████████████████████████████| 1.2 MB 54.3 MB/s eta 0:00:01\n",
      "\u001b[?25hRequirement already satisfied: pyparsing>=2.2.1 in /home/user/miniconda3/lib/python3.8/site-packages (from matplotlib) (2.4.7)\n",
      "Requirement already satisfied: six in /home/user/miniconda3/lib/python3.8/site-packages (from cycler>=0.10->matplotlib) (1.15.0)\n",
      "Installing collected packages: pillow, cycler, kiwisolver, matplotlib\n",
      "Successfully installed cycler-0.10.0 kiwisolver-1.3.1 matplotlib-3.4.2 pillow-8.2.0\n",
      "Note: you may need to restart the kernel to use updated packages.\n"
     ]
    }
   ],
   "source": [
    "pip install matplotlib"
   ]
  },
  {
   "cell_type": "code",
   "execution_count": 1,
   "id": "sexual-switch",
   "metadata": {
    "tags": []
   },
   "outputs": [
    {
     "ename": "ModuleNotFoundError",
     "evalue": "No module named 'matplotlib'",
     "output_type": "error",
     "traceback": [
      "\u001b[0;31m---------------------------------------------------------------------------\u001b[0m",
      "\u001b[0;31mModuleNotFoundError\u001b[0m                       Traceback (most recent call last)",
      "\u001b[0;32m<ipython-input-1-aa6d5a54eec7>\u001b[0m in \u001b[0;36m<module>\u001b[0;34m\u001b[0m\n\u001b[0;32m----> 1\u001b[0;31m \u001b[0;32mimport\u001b[0m \u001b[0mmatplotlib\u001b[0m\u001b[0;34m.\u001b[0m\u001b[0mpyplot\u001b[0m \u001b[0;32mas\u001b[0m \u001b[0mplt\u001b[0m\u001b[0;34m\u001b[0m\u001b[0;34m\u001b[0m\u001b[0m\n\u001b[0m\u001b[1;32m      2\u001b[0m \u001b[0;32mimport\u001b[0m \u001b[0mos\u001b[0m\u001b[0;34m\u001b[0m\u001b[0;34m\u001b[0m\u001b[0m\n\u001b[1;32m      3\u001b[0m \u001b[0;32mimport\u001b[0m \u001b[0mglob\u001b[0m\u001b[0;34m\u001b[0m\u001b[0;34m\u001b[0m\u001b[0m\n\u001b[1;32m      4\u001b[0m \u001b[0;34m\u001b[0m\u001b[0m\n\u001b[1;32m      5\u001b[0m \u001b[0mfile_location\u001b[0m \u001b[0;34m=\u001b[0m \u001b[0mos\u001b[0m\u001b[0;34m.\u001b[0m\u001b[0mpath\u001b[0m\u001b[0;34m.\u001b[0m\u001b[0mjoin\u001b[0m\u001b[0;34m(\u001b[0m\u001b[0;34m'class_7'\u001b[0m\u001b[0;34m,\u001b[0m \u001b[0;34m'*.txt'\u001b[0m\u001b[0;34m)\u001b[0m\u001b[0;34m\u001b[0m\u001b[0;34m\u001b[0m\u001b[0m\n",
      "\u001b[0;31mModuleNotFoundError\u001b[0m: No module named 'matplotlib'"
     ]
    }
   ],
   "source": [
    "import matplotlib.pyplot as plt\n",
    "import os\n",
    "import glob\n",
    "\n",
    "file_location = os.path.join('class_7', '*.txt')\n",
    "filenames = glob.glob(file_location)\n",
    "\n",
    "\n",
    "class_ = ['Forest not on wetland', 'Forest on wetland',\n",
    "          'Open wetland','Arable land', 'Other openland', 'Artificial surfaces',\n",
    "          'Water']\n",
    "\n",
    "for f in filenames:\n",
    "    ratio = []\n",
    "    \n",
    "    outfile = open(f,'r')\n",
    "    for line in outfile:\n",
    "    \tData = [i for i in line.split()]\n",
    "    \tNew_Data= [ j for j in Data[1].split()]\n",
    "    \tratio.append(New_Data[0])\n",
    "    outfile.close()\n",
    "    \n",
    "    file_name = os.path.basename(f)\n",
    "    file_name=os.path.splitext(file_name)[0]\n",
    "    print(file_name)\n",
    "    \n",
    "    ratio = [float(i) for i in ratio]\n",
    "    #print(ratio)\n",
    "    colors = ['#70a800ff', '#305e50ff', '#c29ed7ff', '#ffffbeff','#e1e1e1ff', '#191919ff', '#6699cdff']\n",
    "    explode = [0, 0.01, 0.01, 0, 0, 0, 0.01]\n",
    "    # plotting pie chart\n",
    "    def my_autopct(pct):\n",
    "        return ('%.2f%%' % pct) if pct > 5 else ''\n",
    "    \n",
    "    plt.pie(ratio, colors = colors, startangle = 90, explode = explode,\n",
    "    \t\t shadow = False, autopct=my_autopct )\n",
    "    \n",
    "    plt.title(label=file_name,  loc='center')\n",
    "    ratio_r =  [round(num, 2) for num in ratio]\n",
    "    labels = ['{0} - {1} %'.format(i, j) for i, j in zip(class_,ratio_r)]\n",
    "    plt.legend( labels, loc='lower left', bbox_to_anchor=(-0.15, -.15), fontsize=7)\n",
    "    plt.axis('equal')\n",
    "    #plt.tight_layout()\n",
    "    file_name_ext=os.path.splitext(file_name)[0]+\".svg\"\n",
    "    plt.savefig(file_name_ext, format=\"svg\", dpi=500)\n",
    "    #plt.show()\n",
    "    \n"
   ]
  },
  {
   "cell_type": "markdown",
   "id": "other-hudson",
   "metadata": {},
   "source": [
    "## Open water and flooded vegetation extraction\n",
    "\n",
    "\n",
    "### Open water extraction\n",
    "- Layers: SAR intensity sentinel-1 image. \n",
    "\n",
    "<img src='picture4.png' width=\"400\"> \n",
    "\n",
    "data source: [Google Earth Engine](https://code.earthengine.google.com)\n",
    "         \n",
    "          \n",
    "we use thresholding method to extract open water from S1 layer "
   ]
  },
  {
   "cell_type": "markdown",
   "id": "animal-raise",
   "metadata": {},
   "source": [
    "First we move all layers to the crs: EPSG:4326"
   ]
  },
  {
   "cell_type": "code",
   "execution_count": 109,
   "id": "informative-hypothetical",
   "metadata": {
    "collapsed": true,
    "jupyter": {
     "outputs_hidden": true
    },
    "tags": []
   },
   "outputs": [
    {
     "name": "stdout",
     "output_type": "stream",
     "text": [
      "layers/coherence.tif\n",
      "Creating output file that is 15046P x 4166L.\n",
      "Processing layers/coherence.tif [1/1] : 0Using internal nodata values (e.g. -3.4e+38) for image layers/coherence.tif.\n",
      "Copying nodata values from source layers/coherence.tif to destination layers_reprj/coherence_reprj.tif.\n",
      "...10...20...30...40...50...60...70...80...90...100 - done.\n",
      "layers/S2.tif\n",
      "Creating output file that is 3119P x 1352L.\n",
      "Processing layers/S2.tif [1/1] : 0Using internal nodata values (e.g. -3.4e+38) for image layers/S2.tif.\n",
      "Copying nodata values from source layers/S2.tif to destination layers_reprj/S2_reprj.tif.\n",
      "...10...20...30...40...50...60...70...80...90...100 - done.\n",
      "layers/SAR_VH.tif\n",
      "Creating output file that is 3119P x 1352L.\n",
      "Processing layers/SAR_VH.tif [1/1] : 0Using internal nodata values (e.g. -3.4e+38) for image layers/SAR_VH.tif.\n",
      "Copying nodata values from source layers/SAR_VH.tif to destination layers_reprj/SAR_VH_reprj.tif.\n",
      "...10...20...30...40...50...60...70...80...90...100 - done.\n",
      "layers/slope.tif\n",
      "Creating output file that is 1040P x 452L.\n",
      "Processing layers/slope.tif [1/1] : 0Using internal nodata values (e.g. -3.4e+38) for image layers/slope.tif.\n",
      "Copying nodata values from source layers/slope.tif to destination layers_reprj/slope_reprj.tif.\n",
      "...10...20...30...40...50...60...70...80...90...100 - done.\n"
     ]
    }
   ],
   "source": [
    "%%bash\n",
    "rm --force layers_reprj/*.tif\n",
    "for file in layers/*.tif; do echo $file; filename=$(basename $file .tif);\n",
    "gdalwarp -ot \"Float32\" -t_srs EPSG:4326 $file layers_reprj/${filename}_reprj.tif;done"
   ]
  },
  {
   "cell_type": "code",
   "execution_count": 111,
   "id": "atlantic-session",
   "metadata": {
    "collapsed": true,
    "jupyter": {
     "outputs_hidden": true
    },
    "tags": []
   },
   "outputs": [
    {
     "name": "stdout",
     "output_type": "stream",
     "text": [
      "layers/coherence.tif\n",
      "layers/S2.tif\n",
      "layers/SAR_VH.tif\n",
      "layers/slope.tif\n"
     ]
    }
   ],
   "source": [
    "%%bash \n",
    "#applying nodata value equal to zero\n",
    "for file in layers/*.tif; do echo $file; \n",
    "gdal_edit.py -a_nodata -3.39999995214436425e+38 $file;done"
   ]
  },
  {
   "cell_type": "code",
   "execution_count": 1,
   "id": "limited-angola",
   "metadata": {
    "collapsed": true,
    "jupyter": {
     "outputs_hidden": true
    },
    "tags": []
   },
   "outputs": [
    {
     "name": "stdout",
     "output_type": "stream",
     "text": [
      "layers/coherence.tif\n",
      "Creating output file that is 1040P x 451L.\n",
      "Processing layers/coherence.tif [1/1] : 0Using internal nodata values (e.g. -3.4e+38) for image layers/coherence.tif.\n",
      "Copying nodata values from source layers/coherence.tif to destination crop/coherence_crop.tif.\n",
      "...10...20...30...40...50...60...70...80...90...100 - done.\n",
      "layers/S2.tif\n",
      "Creating output file that is 1040P x 451L.\n",
      "Processing layers/S2.tif [1/1] : 0Using internal nodata values (e.g. -3.4e+38) for image layers/S2.tif.\n",
      "Copying nodata values from source layers/S2.tif to destination crop/S2_crop.tif.\n",
      "...10...20...30...40...50...60...70...80...90...100 - done.\n",
      "layers/SAR_VH.tif\n",
      "Creating output file that is 1040P x 451L.\n",
      "Processing layers/SAR_VH.tif [1/1] : 0Using internal nodata values (e.g. -3.4e+38) for image layers/SAR_VH.tif.\n",
      "Copying nodata values from source layers/SAR_VH.tif to destination crop/SAR_VH_crop.tif.\n",
      "...10...20...30...40...50...60...70...80...90...100 - done.\n",
      "layers/slope.tif\n",
      "Creating output file that is 1040P x 451L.\n",
      "Processing layers/slope.tif [1/1] : 0Using internal nodata values (e.g. -3.4e+38) for image layers/slope.tif.\n",
      "Copying nodata values from source layers/slope.tif to destination crop/slope_crop.tif.\n",
      "...10...20...30...40...50...60...70...80...90...100 - done.\n"
     ]
    }
   ],
   "source": [
    "%%bash\n",
    "rm --force crop/*.tif\n",
    "for file in layers/*.tif; do echo $file; \n",
    "  filename=$(basename $file .tif)\n",
    "  gdalwarp -overwrite -te 14.6714649 58.2914991 14.9516494 58.4129513 -tr 0.000269494585236 -0.000269494585236 $file crop/${filename}_crop.tif \n",
    "done"
   ]
  },
  {
   "cell_type": "markdown",
   "id": "confident-irrigation",
   "metadata": {},
   "source": [
    "we maskout values greater than **-23** "
   ]
  },
  {
   "cell_type": "markdown",
   "id": "quick-cameroon",
   "metadata": {},
   "source": [
    "<img src='picture5.png' width=\"400\"> "
   ]
  },
  {
   "cell_type": "code",
   "execution_count": null,
   "id": "inside-triumph",
   "metadata": {},
   "outputs": [],
   "source": [
    "%%bash\n",
    "pkgetmask -max -23 -data 2 -nodata 0 -ot Byte -i crop/SAR_VH_crop.tif -o crop/water.tif;\n",
    "gdalwarp -crop_to_cutline -cutline rms/ramsarid_23.gpkg crop/water.tif  crop/wat.tif; "
   ]
  },
  {
   "cell_type": "markdown",
   "id": "interpreted-active",
   "metadata": {},
   "source": [
    "### Flooded vegetation extraction by using unsupervised Kmean classification\n",
    "- Layers: 1. Coherence layer ( left picture)\n",
    "          2. slope layer (generated from SRTM DEM (right picture)\n",
    "\n",
    "<img src='picture6.png' width=\"400\">  <img src='picture7.png' width=\"400\"> "
   ]
  },
  {
   "cell_type": "markdown",
   "id": "miniature-thumbnail",
   "metadata": {},
   "source": [
    "orfeo kmean clustering toolbox could not handle **nan** values and alsso give us warning for **nodatavalue=-3.39999995214436425e+38** \n",
    "by the following code we solve this two problems"
   ]
  },
  {
   "cell_type": "code",
   "execution_count": 142,
   "id": "centered-discovery",
   "metadata": {
    "tags": []
   },
   "outputs": [
    {
     "name": "stdout",
     "output_type": "stream",
     "text": [
      "Creating output file that is 792P x 254L.\n",
      "Processing crop/slope_crop.tif [1/1] : 0...10...20...30...40...50...60...70...80...90...100 - done.\n",
      "Creating output file that is 792P x 254L.\n",
      "Processing crop/coherence_crop.tif [1/1] : 0...10...20...30...40...50...60...70...80...90...100 - done.\n"
     ]
    }
   ],
   "source": [
    "%%bash\n",
    "#crop the coherence, SAR, and slope .tif files by our wetland shape of interest to exclude the nan values\n",
    "gdalwarp -crop_to_cutline -overwrite -srcnodata -3.39999995214436425e+38 -dstnodata -999 -cutline rms/ramsarid_23.gpkg crop/slope_crop.tif  crop/slope_crop_ready.tif; \n",
    "gdalwarp -crop_to_cutline -overwrite -srcnodata -3.39999995214436425e+38 -dstnodata -999 -cutline rms/ramsarid_23.gpkg crop/coherence_crop.tif  crop/coherence_crop_ready.tif "
   ]
  },
  {
   "cell_type": "markdown",
   "id": "moral-inquiry",
   "metadata": {},
   "source": [
    "We want to build stack of 2 layers before doing unsupervised classification: **SAR coherence** and **SRTM DEM**"
   ]
  },
  {
   "cell_type": "code",
   "execution_count": 143,
   "id": "active-diagnosis",
   "metadata": {
    "tags": []
   },
   "outputs": [
    {
     "name": "stdout",
     "output_type": "stream",
     "text": [
      "0...10...20...30...40...50...60...70...80...90...100 - done.\n",
      "Driver: VRT/Virtual Raster\n",
      "Files: crop/stack.vrt\n",
      "       crop/coherence_crop_ready.tif\n",
      "       crop/slope_crop_ready.tif\n",
      "Size is 792, 254\n",
      "Coordinate System is:\n",
      "GEOGCS[\"WGS 84\",\n",
      "    DATUM[\"WGS_1984\",\n",
      "        SPHEROID[\"WGS 84\",6378137,298.257223563,\n",
      "            AUTHORITY[\"EPSG\",\"7030\"]],\n",
      "        AUTHORITY[\"EPSG\",\"6326\"]],\n",
      "    PRIMEM[\"Greenwich\",0],\n",
      "    UNIT[\"degree\",0.0174532925199433],\n",
      "    AUTHORITY[\"EPSG\",\"4326\"]]\n",
      "Origin = (14.707577174421624,58.387888303573057)\n",
      "Pixel Size = (0.000269494585236,-0.000269494585236)\n",
      "Corner Coordinates:\n",
      "Upper Left  (  14.7075772,  58.3878883) ( 14d42'27.28\"E, 58d23'16.40\"N)\n",
      "Lower Left  (  14.7075772,  58.3194367) ( 14d42'27.28\"E, 58d19' 9.97\"N)\n",
      "Upper Right (  14.9210169,  58.3878883) ( 14d55'15.66\"E, 58d23'16.40\"N)\n",
      "Lower Right (  14.9210169,  58.3194367) ( 14d55'15.66\"E, 58d19' 9.97\"N)\n",
      "Center      (  14.8142970,  58.3536625) ( 14d48'51.47\"E, 58d21'13.18\"N)\n",
      "Band 1 Block=128x128 Type=Float32, ColorInterp=Undefined\n",
      "    Computed Min/Max=0.000,0.741\n",
      "  NoData Value=-999\n",
      "Band 2 Block=128x128 Type=Float32, ColorInterp=Undefined\n",
      "    Computed Min/Max=0.000,15.575\n",
      "  NoData Value=-999\n"
     ]
    }
   ],
   "source": [
    "%%bash\n",
    "# stck the tif\n",
    "gdalbuildvrt -overwrite -separate crop/stack.vrt crop/coherence_crop_ready.tif crop/slope_crop_ready.tif\n",
    "gdalinfo -mm crop/stack.vrt"
   ]
  },
  {
   "cell_type": "code",
   "execution_count": 150,
   "id": "multiple-carter",
   "metadata": {
    "tags": []
   },
   "outputs": [
    {
     "name": "stdout",
     "output_type": "stream",
     "text": [
      "2021-06-02 21:53:21 (INFO) KMeansClassification: Default RAM limit for OTB is 256 MB\n",
      "2021-06-02 21:53:21 (INFO) KMeansClassification: GDAL maximum cache size is 398 MB\n",
      "2021-06-02 21:53:21 (INFO) KMeansClassification: OTB will use at most 2 threads\n",
      "2021-06-02 21:53:21 (INFO) KMeansClassification: Elevation management: setting default height above ellipsoid to 0 meters\n",
      " (0s)\n",
      "2021-06-02 21:53:21 (INFO) KMeansClassification: add field in the layer ...\n",
      "2021-06-02 21:53:21 (INFO) KMeansClassification: Polygon Class Statistics...\n",
      "2021-06-02 21:53:21 (INFO) KMeansClassification: Elevation management: setting default height above ellipsoid to 0 meters\n",
      "2021-06-02 21:53:21 (INFO): Estimated memory for full processing: 2.99329MB (avail.: 256 MB), optimal image partitioning: 1 blocks\n",
      "2021-06-02 21:53:21 (INFO): Estimation will be performed in 1 blocks of 792x254 pixels\n",
      "Analyze polygons...: 100% [**************************************************] (0s)\n",
      "2021-06-02 21:53:21 (INFO) KMeansClassification: 1000 is the maximum sample size that will be used.\n",
      "\n",
      "2021-06-02 21:53:21 (INFO) KMeansClassification: Sample selection...\n",
      "2021-06-02 21:53:21 (INFO) KMeansClassification: Elevation management: setting default height above ellipsoid to 0 meters\n",
      "2021-06-02 21:53:21 (INFO) KMeansClassification: Sampling strategy : set a constant number of samples for all classes\n",
      "2021-06-02 21:53:21 (INFO) KMeansClassification: Sampling rates :  className  requiredSamples  totalSamples  rate\n",
      "0\t1000\t201168\t0.00497097\n",
      "\n",
      "2021-06-02 21:53:21 (INFO): Estimated memory for full processing: 2.99329MB (avail.: 256 MB), optimal image partitioning: 1 blocks\n",
      "2021-06-02 21:53:21 (INFO): Estimation will be performed in 2 blocks of 448x254 pixels\n",
      "Selecting positions with periodic sampler...: 100% [**************************************************] (0s)\n",
      "2021-06-02 21:53:22 (INFO): Estimated memory for full processing: 4.52808MB (avail.: 256 MB), optimal image partitioning: 1 blocks\n",
      "2021-06-02 21:53:22 (INFO): Estimation will be performed in 1 blocks of 792x254 pixels\n",
      "Extracting sample values...: 100% [**************************************************] (0s)\n",
      "2021-06-02 21:53:22 (INFO) KMeansClassification: Compute Images second order statistics...\n",
      "2021-06-02 21:53:22 (INFO): Estimated memory for full processing: 4.52808MB (avail.: 256 MB), optimal image partitioning: 1 blocks\n",
      "2021-06-02 21:53:22 (INFO): Estimation will be performed in 1 blocks of 792x254 pixels\n",
      "Processing Image (1/1): 100% [**************************************************] (0s)\n",
      "2021-06-02 21:53:22 (INFO) KMeansClassification: image statistics file: crop/ClassificationFilterOutput.tif_imgstats.xml\n",
      "2021-06-02 21:53:22 (INFO) KMeansClassification: Model training...\n",
      "2021-06-02 21:53:22 (INFO) KMeansClassification: Reading vector file 1/1\n",
      "2021-06-02 21:53:22 (INFO) KMeansClassification: Computing model file : crop/ClassificationFilterOutput.tif_model.txt\n",
      "Training model...: 100% [**************************************************] (0s)\n",
      "Validation...: 100% [**************************************************] (0s)\n",
      "2021-06-02 21:53:22 (INFO) KMeansClassification: Training performances:\n",
      "2021-06-02 21:53:22 (INFO) KMeansClassification: Contingency table: reference labels (rows) vs. produced labels (cols)\n",
      "ContingencyTableCalculator (0x558686a52230)\n",
      " labels      0      1      2      3      4      5      6      7      8      9     10     11     12     13     14\n",
      "      0    437     64     21     16     43     59     58     59     70     31     41     26      9     51     15\n",
      "\n",
      "2021-06-02 21:53:22 (INFO) KMeansClassification: output model: crop/ClassificationFilterOutput.tif_model.txt\n",
      "2021-06-02 21:53:22 (INFO) KMeansClassification: Performs a classification of the input image...\n",
      "2021-06-02 21:53:22 (INFO) KMeansClassification: Loading model\n",
      "2021-06-02 21:53:22 (INFO) KMeansClassification: Model loaded\n",
      "2021-06-02 21:53:22 (INFO) KMeansClassification: Input image normalization activated.\n",
      "2021-06-02 21:53:22 (INFO) KMeansClassification: mean used: [-430.072, -429.681]\n",
      "2021-06-02 21:53:22 (INFO) KMeansClassification: standard deviation used: [494.746, 495.087]\n",
      "2021-06-02 21:53:22 (INFO) KMeansClassification: Final clean-up ...\n",
      "2021-06-02 21:53:23 (INFO): Estimated memory for full processing: 8.81551MB (avail.: 256 MB), optimal image partitioning: 1 blocks\n",
      "2021-06-02 21:53:23 (INFO): File crop/ClassificationFilterOutput.tif will be written in 1 blocks of 792x254 pixels\n",
      "Writing crop/ClassificationFilterOutput.tif...: 100% [**************************************************] (0s)\n"
     ]
    }
   ],
   "source": [
    "%%bash\n",
    "# unsupervised classification\n",
    "~/OTB/superbuild_install/bin/otbcli_KMeansClassification -in crop/stack.vrt -ts 1000 -nc 15 -maxit 1000 -out crop/ClassificationFilterOutput.tif uint8"
   ]
  },
  {
   "cell_type": "markdown",
   "id": "touched-gardening",
   "metadata": {},
   "source": [
    "In the following code we select the cluster with highest coherence **(cluster n. 12)**\n",
    "\n",
    "<img src='picture8.png' width=\"400\">  <img src='picture9.png' width=\"400\"> "
   ]
  },
  {
   "cell_type": "code",
   "execution_count": 138,
   "id": "progressive-homework",
   "metadata": {},
   "outputs": [
    {
     "name": "stdout",
     "output_type": "stream",
     "text": [
      "0...10...20...30...40...50...60...70...80...90...100 - done.\n"
     ]
    }
   ],
   "source": [
    "%%bash\n",
    "pkgetmask -max 12 -min 12 -data 1 -nodata 0 -ot Byte -i crop/ClassificationFilterOutput.tif -o crop/veg.tif"
   ]
  },
  {
   "cell_type": "markdown",
   "id": "needed-frost",
   "metadata": {},
   "source": [
    "Now we want to calculate number of water pixels and flooded Vegetation"
   ]
  },
  {
   "cell_type": "code",
   "execution_count": 151,
   "id": "professional-hometown",
   "metadata": {
    "tags": []
   },
   "outputs": [
    {
     "name": "stdout",
     "output_type": "stream",
     "text": [
      "Input file size is 792, 254\n",
      "0...10...20...30...40...50...60...70...80...90...100 - done.\n",
      "Input file size is 792, 254\n",
      "0...10...20...30...40...50...60...70...80...90...100 - done.\n"
     ]
    }
   ],
   "source": [
    "%%bash\n",
    "#convert .tif to .txt\n",
    "gdal_translate -of XYZ crop/wat.tif crop/wat.txt\n",
    "gdal_translate -of XYZ crop/veg.tif crop/veg.txt\n"
   ]
  },
  {
   "cell_type": "code",
   "execution_count": 1,
   "id": "human-philip",
   "metadata": {},
   "outputs": [
    {
     "name": "stdout",
     "output_type": "stream",
     "text": [
      "58524\n",
      "1220\n"
     ]
    }
   ],
   "source": [
    "%%bash\n",
    "#calculating number of pixels\n",
    "awk '{print$3}' crop/wat.txt | grep 2 | wc -l > crop/final.txt;\n",
    "awk '{print$3}' crop/veg.txt | grep 1 | wc -l >> crop/final.txt;\n",
    "cat crop/final.txt"
   ]
  },
  {
   "cell_type": "code",
   "execution_count": 155,
   "id": "broad-prior",
   "metadata": {},
   "outputs": [
    {
     "name": "stdout",
     "output_type": "stream",
     "text": [
      "[NbConvertApp] Converting notebook my_project.ipynb to html\n",
      "[NbConvertApp] Writing 2321636 bytes to my_project.html\n"
     ]
    }
   ],
   "source": [
    "!jupyter nbconvert my_project.ipynb --to html"
   ]
  }
 ],
 "metadata": {
  "kernelspec": {
   "display_name": "Python 3",
   "language": "python",
   "name": "python3"
  },
  "language_info": {
   "codemirror_mode": {
    "name": "ipython",
    "version": 3
   },
   "file_extension": ".py",
   "mimetype": "text/x-python",
   "name": "python",
   "nbconvert_exporter": "python",
   "pygments_lexer": "ipython3",
   "version": "3.9.4"
  }
 },
 "nbformat": 4,
 "nbformat_minor": 5
}
